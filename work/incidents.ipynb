{
 "cells": [
  {
   "cell_type": "code",
   "execution_count": null,
   "metadata": {},
   "outputs": [],
   "source": [
    "import numpy as np\n",
    "import pandas as pd\n",
    "\n",
    "# Matplotlib forms basis for visualization in Python\n",
    "import matplotlib.pyplot as plt\n",
    "from scipy import stats\n",
    "\n",
    "# We will use the Seaborn library\n",
    "import seaborn as sns\n",
    "sns.set()\n",
    "\n",
    "#precisao de casas decimais\n",
    "pd.set_option(\"display.precision\", 3)\n",
    "#maximo de colunas\n",
    "pd.set_option(\"display.max_columns\", 200)\n",
    "#maximo de linhas\n",
    "pd.set_option(\"display.max_rows\", 100)"
   ]
  },
  {
   "cell_type": "code",
   "execution_count": null,
   "metadata": {},
   "outputs": [],
   "source": [
    "df = pd.read_csv('./incident_event_log.csv', low_memory=False)"
   ]
  },
  {
   "cell_type": "code",
   "execution_count": null,
   "metadata": {},
   "outputs": [],
   "source": [
    "#ajustando notify\n",
    "df['notify'] = df['notify'].map({'Do Not Notify': False, 'Send Email': True})\n",
    "#ajustando datas\n",
    "df['opened_at'] = pd.to_datetime(df['opened_at'])\n",
    "df['sys_created_at'] = pd.to_datetime(df['sys_created_at'])\n",
    "df['sys_updated_at'] = pd.to_datetime(df['sys_updated_at'])\n",
    "df['resolved_at'] = pd.to_datetime(df['resolved_at'])\n",
    "df['closed_at'] = pd.to_datetime(df['closed_at'])"
   ]
  },
  {
   "cell_type": "code",
   "execution_count": null,
   "metadata": {},
   "outputs": [],
   "source": [
    "#diferença entre abertura e fechamento \n",
    "df['days_to_close'] = df['closed_at'] - df['opened_at']"
   ]
  },
  {
   "cell_type": "code",
   "execution_count": null,
   "metadata": {
    "scrolled": true
   },
   "outputs": [],
   "source": [
    "df.head(100)"
   ]
  },
  {
   "cell_type": "code",
   "execution_count": null,
   "metadata": {
    "scrolled": true
   },
   "outputs": [],
   "source": [
    "#tipos de abertura\n",
    "df[df['sys_mod_count'] == 0].groupby(by='incident_state').size()"
   ]
  },
  {
   "cell_type": "code",
   "execution_count": null,
   "metadata": {},
   "outputs": [],
   "source": [
    "#verificamos que possuem mais chamados fechados que chamados abertos\n",
    "\n",
    "#len(pd.unique(df[df['sys_mod_count'] == 0]['number']))\n",
    "\n",
    "df[df['sys_mod_count'] == 0].groupby(by='incident_state').size().sum() - len(df[df['incident_state'] == 'Closed'])"
   ]
  },
  {
   "cell_type": "code",
   "execution_count": null,
   "metadata": {
    "scrolled": true
   },
   "outputs": [],
   "source": [
    "#quantia de chamados com datas inválidas\n",
    "len(df[df['days_to_close'] < pd.Timedelta(0,'m')])"
   ]
  },
  {
   "cell_type": "code",
   "execution_count": null,
   "metadata": {},
   "outputs": [],
   "source": [
    "#quantia de chamados que iniciam com alterações\n",
    "df[((df['sys_mod_count'] != 0) & (df['sys_created_at'] == df['sys_updated_at']))].groupby(by='number').size()"
   ]
  },
  {
   "cell_type": "code",
   "execution_count": null,
   "metadata": {},
   "outputs": [],
   "source": [
    "#remover qualquer chamado com periodo para fechamento negativo\n",
    "df = df[df['days_to_close'] > pd.Timedelta(0,'m')]"
   ]
  },
  {
   "cell_type": "code",
   "execution_count": null,
   "metadata": {},
   "outputs": [],
   "source": [
    "#chamados fechados - mostrando que o ciclo de abertura e fechamento está incompleto\n",
    "closed_df = df[df['incident_state'] == 'Closed']"
   ]
  },
  {
   "cell_type": "code",
   "execution_count": null,
   "metadata": {},
   "outputs": [],
   "source": [
    "#descrição do período que levou para fechar os tickets.\n",
    "closed_df['days_to_close'].describe()"
   ]
  },
  {
   "cell_type": "code",
   "execution_count": null,
   "metadata": {},
   "outputs": [],
   "source": [
    "category_df = closed_df.groupby(by=['category', 'subcategory'])\n",
    "category_df.size()"
   ]
  },
  {
   "cell_type": "code",
   "execution_count": null,
   "metadata": {},
   "outputs": [],
   "source": [
    "#chamados mais recorrentes\n",
    "category_df.size().sort_values(ascending=False).head(10)"
   ]
  },
  {
   "cell_type": "code",
   "execution_count": null,
   "metadata": {},
   "outputs": [],
   "source": [
    "category_df['days_to_close'].describe()"
   ]
  },
  {
   "cell_type": "code",
   "execution_count": null,
   "metadata": {},
   "outputs": [],
   "source": [
    "#selecionando colunas que se repetem nas linhas referentes ao mesmo incidente\n",
    "common_columns = np.array(['number', 'caller_id', 'opened_by', 'opened_at', 'sys_created_by', 'sys_created_at', 'contact_type', 'notify', 'closed_code', 'resolved_at', 'closed_at'])\n",
    "#agrupando em um novo df\n",
    "grouped_df = df.groupby(by=list(common_columns))"
   ]
  },
  {
   "cell_type": "code",
   "execution_count": null,
   "metadata": {},
   "outputs": [],
   "source": []
  },
  {
   "cell_type": "code",
   "execution_count": null,
   "metadata": {},
   "outputs": [],
   "source": [
    "df.describe()"
   ]
  },
  {
   "cell_type": "code",
   "execution_count": null,
   "metadata": {},
   "outputs": [],
   "source": [
    "df.describe(include=['object'])"
   ]
  },
  {
   "cell_type": "code",
   "execution_count": null,
   "metadata": {},
   "outputs": [],
   "source": []
  }
 ],
 "metadata": {
  "kernelspec": {
   "display_name": "Python 3",
   "language": "python",
   "name": "python3"
  },
  "language_info": {
   "codemirror_mode": {
    "name": "ipython",
    "version": 3
   },
   "file_extension": ".py",
   "mimetype": "text/x-python",
   "name": "python",
   "nbconvert_exporter": "python",
   "pygments_lexer": "ipython3",
   "version": "3.7.6"
  }
 },
 "nbformat": 4,
 "nbformat_minor": 4
}
