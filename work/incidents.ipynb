{
 "cells": [
  {
   "cell_type": "code",
   "execution_count": null,
   "metadata": {},
   "outputs": [],
   "source": [
    "import numpy as np\n",
    "import pandas as pd\n",
    "\n",
    "# Matplotlib forms basis for visualization in Python\n",
    "import matplotlib.pyplot as plt\n",
    "from scipy import stats\n",
    "\n",
    "# We will use the Seaborn library\n",
    "import seaborn as sns\n",
    "sns.set()\n",
    "\n",
    "#precisao de casas decimais\n",
    "pd.set_option(\"display.precision\", 3)\n",
    "#maximo de colunas\n",
    "pd.set_option(\"display.max_columns\", 200)\n",
    "#maximo de linhas\n",
    "pd.set_option(\"display.max_rows\", 2000)"
   ]
  },
  {
   "cell_type": "code",
   "execution_count": null,
   "metadata": {},
   "outputs": [],
   "source": [
    "df = pd.read_csv('./incident_event_log.csv', low_memory=False)"
   ]
  },
  {
   "cell_type": "code",
   "execution_count": null,
   "metadata": {},
   "outputs": [],
   "source": [
    "#ajustando notify\n",
    "df['notify'] = df['notify'].map({'Do Not Notify': False, 'Send Email': True})"
   ]
  },
  {
   "cell_type": "code",
   "execution_count": null,
   "metadata": {},
   "outputs": [],
   "source": [
    "#ajustando datas\n",
    "df['opened_at'] = pd.to_datetime(df['opened_at'])\n",
    "df['sys_created_at'] = pd.to_datetime(df['sys_created_at'])\n",
    "df['sys_updated_at'] = pd.to_datetime(df['sys_updated_at'])\n",
    "df['resolved_at'] = pd.to_datetime(df['resolved_at'])\n",
    "df['closed_at'] = pd.to_datetime(df['closed_at'])"
   ]
  },
  {
   "cell_type": "code",
   "execution_count": null,
   "metadata": {},
   "outputs": [],
   "source": [
    "#ajustando categorias\n",
    "df['location'] = df['location'].str.lstrip('Location ').astype('float')\n",
    "df['category'] = df['category'].str.lstrip('Category ').astype('float')\n",
    "df['subcategory'] = df['subcategory'].str.lstrip('Subcategory ').astype('float')\n",
    "df['u_symptom'] = df['u_symptom'].str.lstrip('Symptom ').astype('float')\n",
    "df['closed_code'] = df['closed_code'].str.lstrip('code ').astype('float')\n",
    "df['problem_id'] = df['problem_id'].str.lstrip('Problem ID ').astype('float')"
   ]
  },
  {
   "cell_type": "code",
   "execution_count": null,
   "metadata": {},
   "outputs": [],
   "source": [
    "#ajustando impacto\n",
    "df['impact'] = df['impact'].str.partition('-')[0].astype('float')\n",
    "df['urgency'] = df['urgency'].str.partition('-')[0].astype('float')\n",
    "df['priority'] = df['priority'].str.partition('-')[0].astype('float')"
   ]
  },
  {
   "cell_type": "code",
   "execution_count": null,
   "metadata": {},
   "outputs": [],
   "source": [
    "#ajustando id pessoas\n",
    "df['resolved_by'] = df['resolved_by'].str.lstrip('Resolved by ').astype('float')\n",
    "df['assignment_group'] = df['assignment_group'].str.lstrip('Group ').astype('float')\n",
    "df['assigned_to'] = df['assigned_to'].str.lstrip('Resolver ').astype('float')\n",
    "df['sys_updated_by'] = df['sys_updated_by'].str.lstrip('Updated by ').astype('float')\n",
    "df['sys_created_by'] = df['sys_created_by'].str.lstrip('Created by ').astype('float')\n",
    "df['opened_by'] = df['opened_by'].str.lstrip('Opened by ').astype('float')\n",
    "df['caller_id'] = df['caller_id'].str.lstrip('Caller ').astype('float')"
   ]
  },
  {
   "cell_type": "code",
   "execution_count": null,
   "metadata": {},
   "outputs": [],
   "source": [
    "#diferença entre abertura e fechamento \n",
    "df['days_to_close'] = df['closed_at'] - df['opened_at']\n",
    "df['days_to_resolve'] = df['resolved_at'] - df['opened_at']\n",
    "df['num_days_to_close'] = df['days_to_close'] / pd.Timedelta(1, 'D')\n",
    "df['num_days_to_resolve'] = df['days_to_resolve'] / pd.Timedelta(1, 'D')"
   ]
  },
  {
   "cell_type": "code",
   "execution_count": null,
   "metadata": {
    "scrolled": true
   },
   "outputs": [],
   "source": [
    "df.head(200)"
   ]
  },
  {
   "cell_type": "code",
   "execution_count": null,
   "metadata": {
    "scrolled": true
   },
   "outputs": [],
   "source": [
    "#tipos de abertura\n",
    "df[df['sys_mod_count'] == 0].groupby(by='incident_state').size()"
   ]
  },
  {
   "cell_type": "code",
   "execution_count": null,
   "metadata": {},
   "outputs": [],
   "source": [
    "#verificamos que possuem mais chamados fechados que chamados abertos\n",
    "\n",
    "#len(pd.unique(df[df['sys_mod_count'] == 0]['number']))\n",
    "\n",
    "df[df['sys_mod_count'] == 0].groupby(by='incident_state').size().sum() - len(df[df['incident_state'] == 'Closed'])"
   ]
  },
  {
   "cell_type": "code",
   "execution_count": null,
   "metadata": {
    "scrolled": true
   },
   "outputs": [],
   "source": [
    "#quantia de chamados com datas inválidas\n",
    "print (len(df[df['num_days_to_close'] < 0]))\n",
    "print (len(df[df['num_days_to_resolve'] < 0]))"
   ]
  },
  {
   "cell_type": "code",
   "execution_count": null,
   "metadata": {},
   "outputs": [],
   "source": [
    "#quantia de chamados que iniciam com alterações\n",
    "df[((df['sys_mod_count'] != 0) & (df['sys_created_at'] == df['sys_updated_at']))].groupby(by='number').size()"
   ]
  },
  {
   "cell_type": "code",
   "execution_count": null,
   "metadata": {},
   "outputs": [],
   "source": [
    "#remover qualquer chamado com periodo para fechamento negativo\n",
    "df = df[((df['num_days_to_close'] > 0) & (df['num_days_to_resolve'] > 0))]"
   ]
  },
  {
   "cell_type": "code",
   "execution_count": null,
   "metadata": {},
   "outputs": [],
   "source": [
    "#chamados fechados - mostrando que o ciclo de abertura e fechamento está incompleto\n",
    "closed_df = df[df['incident_state'] == 'Closed']"
   ]
  },
  {
   "cell_type": "code",
   "execution_count": null,
   "metadata": {},
   "outputs": [],
   "source": [
    "#avaliação do período que levou para fechar os tickets.\n",
    "closed_df['days_to_close'].describe()"
   ]
  },
  {
   "cell_type": "code",
   "execution_count": null,
   "metadata": {},
   "outputs": [],
   "source": [
    "#avaliação do período que levou para resolver os tickets.\n",
    "closed_df['days_to_resolve'].describe()"
   ]
  },
  {
   "cell_type": "code",
   "execution_count": null,
   "metadata": {
    "scrolled": true
   },
   "outputs": [],
   "source": [
    "category_df = closed_df.groupby(by=['category', 'subcategory'])\n",
    "category_df.size()"
   ]
  },
  {
   "cell_type": "code",
   "execution_count": null,
   "metadata": {},
   "outputs": [],
   "source": [
    "#chamados mais recorrentes\n",
    "category_df.size().sort_values(ascending=False).head(10)"
   ]
  },
  {
   "cell_type": "code",
   "execution_count": null,
   "metadata": {},
   "outputs": [],
   "source": [
    "category_df['days_to_close'].describe()"
   ]
  },
  {
   "cell_type": "code",
   "execution_count": null,
   "metadata": {},
   "outputs": [],
   "source": [
    "#selecionando colunas que se repetem nas linhas referentes ao mesmo incidente\n",
    "common_columns = np.array(['number', 'caller_id', 'opened_by', 'opened_at', 'sys_created_by', 'sys_created_at', 'contact_type', 'notify', 'closed_code', 'resolved_at', 'closed_at'])\n",
    "#agrupando em um novo df\n",
    "grouped_df = df.groupby(by=list(common_columns))"
   ]
  },
  {
   "cell_type": "code",
   "execution_count": null,
   "metadata": {
    "scrolled": false
   },
   "outputs": [],
   "source": [
    "plt.figure(figsize=(15,6))\n",
    "_ = sns.distplot(closed_df['num_days_to_close'], fit=stats.norm)"
   ]
  },
  {
   "cell_type": "code",
   "execution_count": null,
   "metadata": {
    "scrolled": false
   },
   "outputs": [],
   "source": [
    "plt.figure(figsize=(15,6))\n",
    "_ = sns.distplot(closed_df['num_days_to_resolve'], fit=stats.norm)"
   ]
  },
  {
   "cell_type": "code",
   "execution_count": null,
   "metadata": {
    "scrolled": false
   },
   "outputs": [],
   "source": [
    "#com o gráfico a seguir, conseguimos perceber que o impacto afeta o tempo para o chamado ser concluido\n",
    "sns.pairplot(closed_df,\n",
    "             y_vars=['num_days_to_close', 'num_days_to_resolve'],\n",
    "             x_vars=['subcategory', 'location', 'resolved_by'],\n",
    "             dropna=True,\n",
    "             hue='impact');"
   ]
  },
  {
   "cell_type": "code",
   "execution_count": null,
   "metadata": {
    "scrolled": true
   },
   "outputs": [],
   "source": [
    "#com o gráfico a seguir, conseguimos perceber que a urgência afeta o tempo para o chamado ser concluido\n",
    "sns.pairplot(closed_df,\n",
    "             y_vars=['num_days_to_close', 'num_days_to_resolve'],\n",
    "             x_vars=['subcategory', 'location', 'resolved_by'],\n",
    "             dropna=True,\n",
    "             hue='urgency');"
   ]
  },
  {
   "cell_type": "code",
   "execution_count": null,
   "metadata": {
    "scrolled": false
   },
   "outputs": [],
   "source": [
    "#o tipo de resolução se relaciona com o tempo de conclusão\n",
    "sns.jointplot(x='num_days_to_resolve',\n",
    "              y='closed_code', \n",
    "              data=closed_df);"
   ]
  },
  {
   "cell_type": "code",
   "execution_count": null,
   "metadata": {
    "scrolled": false
   },
   "outputs": [],
   "source": [
    "sns.jointplot(x='subcategory',\n",
    "              y='closed_code', \n",
    "              data=closed_df);"
   ]
  },
  {
   "cell_type": "code",
   "execution_count": null,
   "metadata": {
    "scrolled": false
   },
   "outputs": [],
   "source": [
    "plt.figure(figsize=(15,6))\n",
    "fig = sns.countplot(x='closed_code', hue='priority', data=closed_df);\n",
    "for item in fig.get_xticklabels():\n",
    "    item.set_rotation(90)\n",
    "_ = plt.legend(loc='upper right')"
   ]
  }
 ],
 "metadata": {
  "kernelspec": {
   "display_name": "Python 3",
   "language": "python",
   "name": "python3"
  },
  "language_info": {
   "codemirror_mode": {
    "name": "ipython",
    "version": 3
   },
   "file_extension": ".py",
   "mimetype": "text/x-python",
   "name": "python",
   "nbconvert_exporter": "python",
   "pygments_lexer": "ipython3",
   "version": "3.7.6"
  }
 },
 "nbformat": 4,
 "nbformat_minor": 4
}
